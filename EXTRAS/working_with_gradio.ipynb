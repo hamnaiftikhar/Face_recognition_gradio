{
 "cells": [
  {
   "cell_type": "markdown",
   "metadata": {},
   "source": [
    "# Examples for Gradio Interfaces\n",
    "just place interface.launch(share=True) "
   ]
  },
  {
   "cell_type": "code",
   "execution_count": 83,
   "metadata": {},
   "outputs": [],
   "source": [
    "import gradio as gr\n",
    "import random"
   ]
  },
  {
   "cell_type": "code",
   "execution_count": 84,
   "metadata": {},
   "outputs": [],
   "source": [
    "dataset = \"\"\"The letter said that my services were urgently needed on a matter of great importance. It assured me\n",
    "that payment would be satisfactory. If interested, I was to appear in a well-known tavern that evening\n",
    "after dark. Once there, I had to sit at the table closest to the window, my back to the door, my head bowed\n",
    "down, and my eyes fixed on the floor. I would soon be joined by the person or persons who would hire\n",
    "me. They were going to give me all the information I needed to know. Neither when they arrived nor as\n",
    "they left, and at no point during our conversation, could I raise my head and look at their faces.\"\"\""
   ]
  },
  {
   "cell_type": "code",
   "execution_count": 85,
   "metadata": {},
   "outputs": [],
   "source": [
    "words = dataset.split()"
   ]
  },
  {
   "cell_type": "code",
   "execution_count": 86,
   "metadata": {},
   "outputs": [],
   "source": [
    "def build_markov_model(words):\n",
    "    model = {}\n",
    "    for i in range(len(words)-4):\n",
    "        key = tuple(words[i:i+4])\n",
    "        if key not in model:\n",
    "            model[key] = []\n",
    "        model[key].append(words[i+4])\n",
    "    return model"
   ]
  },
  {
   "cell_type": "code",
   "execution_count": 87,
   "metadata": {},
   "outputs": [],
   "source": [
    "def generate_next_words(prompt):\n",
    "    prompt_words = prompt.split()\n",
    "    if len(prompt_words) < 4:\n",
    "        return \"Please enter at least 4 words.\"\n",
    "    key = tuple(prompt_words[-4:])\n",
    "    generated_words = list(key)\n",
    "    for _ in range(4):\n",
    "        if key in markov_model:\n",
    "            next_word = random.choice(markov_model[key])\n",
    "        else:\n",
    "            next_word = \"<End of Text>\"\n",
    "        generated_words.append(next_word)\n",
    "        key = tuple(generated_words[-4:])\n",
    "    return ' '.join(generated_words)"
   ]
  },
  {
   "cell_type": "code",
   "execution_count": 88,
   "metadata": {},
   "outputs": [],
   "source": [
    "markov_model = build_markov_model(words)\n"
   ]
  },
  {
   "cell_type": "code",
   "execution_count": 89,
   "metadata": {},
   "outputs": [
    {
     "name": "stderr",
     "output_type": "stream",
     "text": [
      "D:\\Anaconda\\lib\\site-packages\\gradio\\inputs.py:27: UserWarning: Usage of gradio.inputs is deprecated, and will not be supported in the future, please import your component from gradio.components\n",
      "  warnings.warn(\n",
      "D:\\Anaconda\\lib\\site-packages\\gradio\\deprecation.py:40: UserWarning: `optional` parameter is deprecated, and it has no effect\n",
      "  warnings.warn(value)\n",
      "D:\\Anaconda\\lib\\site-packages\\gradio\\deprecation.py:40: UserWarning: `numeric` parameter is deprecated, and it has no effect\n",
      "  warnings.warn(value)\n",
      "D:\\Anaconda\\lib\\site-packages\\gradio\\outputs.py:22: UserWarning: Usage of gradio.outputs is deprecated, and will not be supported in the future, please import your components from gradio.components\n",
      "  warnings.warn(\n"
     ]
    }
   ],
   "source": [
    "iface = gr.Interface(\n",
    "    fn=generate_next_words,\n",
    "    inputs=gr.inputs.Textbox(placeholder=\"Enter 4 words\"),\n",
    "    outputs=gr.outputs.Textbox(label=\"Next 4 Words\")\n",
    ")"
   ]
  },
  {
   "cell_type": "code",
   "execution_count": 90,
   "metadata": {},
   "outputs": [
    {
     "name": "stdout",
     "output_type": "stream",
     "text": [
      "Running on local URL:  http://127.0.0.1:7881\n",
      "\n",
      "To create a public link, set `share=True` in `launch()`.\n"
     ]
    },
    {
     "data": {
      "text/html": [
       "<div><iframe src=\"http://127.0.0.1:7881/\" width=\"100%\" height=\"500\" allow=\"autoplay; camera; microphone; clipboard-read; clipboard-write;\" frameborder=\"0\" allowfullscreen></iframe></div>"
      ],
      "text/plain": [
       "<IPython.core.display.HTML object>"
      ]
     },
     "metadata": {},
     "output_type": "display_data"
    },
    {
     "data": {
      "text/plain": []
     },
     "execution_count": 90,
     "metadata": {},
     "output_type": "execute_result"
    }
   ],
   "source": [
    "iface.launch()"
   ]
  },
  {
   "cell_type": "code",
   "execution_count": 96,
   "metadata": {
    "_cell_guid": "b1076dfc-b9ad-4769-8c92-a6c4dae69d19",
    "_uuid": "8f2839f25d086af736a60e9eeb907d3b93b6e0e5",
    "execution": {
     "iopub.execute_input": "2022-09-03T06:55:30.208127Z",
     "iopub.status.busy": "2022-09-03T06:55:30.207076Z",
     "iopub.status.idle": "2022-09-03T06:55:33.505820Z",
     "shell.execute_reply": "2022-09-03T06:55:33.504630Z",
     "shell.execute_reply.started": "2022-09-03T06:55:30.208082Z"
    }
   },
   "outputs": [],
   "source": [
    "import gradio as gr"
   ]
  },
  {
   "cell_type": "code",
   "execution_count": 97,
   "metadata": {},
   "outputs": [],
   "source": [
    "description = \"STORY GENERATION WITH GPT-2\"\n",
    "who_said_that = \"GENERATE YOUR OWN STORY WITH ME.\""
   ]
  },
  {
   "cell_type": "code",
   "execution_count": 98,
   "metadata": {},
   "outputs": [],
   "source": [
    "dataset = [[\"The letter said that my services were urgently needed on a matter of great importance. It assured methat payment would be satisfactory. If interested, I was to appear in a well-known tavern that eveningafter dark. Once there, I had to sit at the table closest to the window, my back to the door, my head boweddown, and my eyes fixed on the floor. I would soon be joined by the person or persons who would hireme. They were going to give me all the information I needed to know. Neither when they arrived nor asthey left, and at no point during our conversation, could I raise my head and look at their faces.\"]]"
   ]
  },
  {
   "cell_type": "code",
   "execution_count": 99,
   "metadata": {},
   "outputs": [
    {
     "name": "stderr",
     "output_type": "stream",
     "text": [
      "D:\\Anaconda\\lib\\site-packages\\gradio\\interface.py:94: UserWarning: gr.Interface.load() will be deprecated. Use gr.load() instead.\n",
      "  warnings.warn(\"gr.Interface.load() will be deprecated. Use gr.load() instead.\")\n"
     ]
    },
    {
     "name": "stdout",
     "output_type": "stream",
     "text": [
      "Fetching model from: https://huggingface.co/pranavpsv/gpt2-genre-story-generator\n",
      "Running on local URL:  http://127.0.0.1:7886\n",
      "\n",
      "Could not create share link. Please check your internet connection or our status page: https://status.gradio.app\n"
     ]
    },
    {
     "data": {
      "text/html": [
       "<div><iframe src=\"http://127.0.0.1:7886/\" width=\"100%\" height=\"500\" allow=\"autoplay; camera; microphone; clipboard-read; clipboard-write;\" frameborder=\"0\" allowfullscreen></iframe></div>"
      ],
      "text/plain": [
       "<IPython.core.display.HTML object>"
      ]
     },
     "metadata": {},
     "output_type": "display_data"
    }
   ],
   "source": [
    "interface = gr.Interface.load(\"huggingface/pranavpsv/gpt2-genre-story-generator\",\n",
    "                              description=description,\n",
    "                              examples=dataset)\n",
    "\n",
    "interface.launch(share=True);"
   ]
  },
  {
   "cell_type": "markdown",
   "metadata": {},
   "source": [
    "# text to image"
   ]
  },
  {
   "cell_type": "code",
   "execution_count": 100,
   "metadata": {
    "execution": {
     "iopub.execute_input": "2022-09-03T07:06:02.000158Z",
     "iopub.status.busy": "2022-09-03T07:06:01.999272Z",
     "iopub.status.idle": "2022-09-03T07:06:05.515960Z",
     "shell.execute_reply": "2022-09-03T07:06:05.514745Z",
     "shell.execute_reply.started": "2022-09-03T07:06:02.000110Z"
    }
   },
   "outputs": [],
   "source": [
    "who_said_that = \"A TEXT TO IMAGE MODEL.\"\n",
    "title = \"GAN IMAGENET\""
   ]
  },
  {
   "cell_type": "code",
   "execution_count": 101,
   "metadata": {
    "scrolled": true
   },
   "outputs": [
    {
     "name": "stderr",
     "output_type": "stream",
     "text": [
      "D:\\Anaconda\\lib\\site-packages\\gradio\\interface.py:94: UserWarning: gr.Interface.load() will be deprecated. Use gr.load() instead.\n",
      "  warnings.warn(\"gr.Interface.load() will be deprecated. Use gr.load() instead.\")\n"
     ]
    },
    {
     "name": "stdout",
     "output_type": "stream",
     "text": [
      "Fetching model from: https://huggingface.co/osanseviero/BigGAN-deep-128\n"
     ]
    }
   ],
   "source": [
    "interface = gr.Interface.load(\"huggingface/osanseviero/BigGAN-deep-128\", \n",
    "            description=who_said_that,\n",
    "            title = title,\n",
    "            examples=[[\"cookies\"]]\n",
    ")"
   ]
  },
  {
   "cell_type": "code",
   "execution_count": 104,
   "metadata": {},
   "outputs": [
    {
     "name": "stdout",
     "output_type": "stream",
     "text": [
      "Rerunning server... use `close()` to stop if you need to change `launch()` parameters.\n",
      "----\n",
      "Running on local URL:  http://127.0.0.1:7887\n",
      "\n",
      "Could not create share link. Please check your internet connection or our status page: https://status.gradio.app\n"
     ]
    },
    {
     "data": {
      "text/html": [
       "<div><iframe src=\"http://127.0.0.1:7887/\" width=\"100%\" height=\"500\" allow=\"autoplay; camera; microphone; clipboard-read; clipboard-write;\" frameborder=\"0\" allowfullscreen></iframe></div>"
      ],
      "text/plain": [
       "<IPython.core.display.HTML object>"
      ]
     },
     "metadata": {},
     "output_type": "display_data"
    },
    {
     "data": {
      "text/plain": []
     },
     "execution_count": 104,
     "metadata": {},
     "output_type": "execute_result"
    }
   ],
   "source": [
    "interface.launch(share=True)"
   ]
  }
 ],
 "metadata": {
  "kernelspec": {
   "display_name": "Python 3 (ipykernel)",
   "language": "python",
   "name": "python3"
  },
  "language_info": {
   "codemirror_mode": {
    "name": "ipython",
    "version": 3
   },
   "file_extension": ".py",
   "mimetype": "text/x-python",
   "name": "python",
   "nbconvert_exporter": "python",
   "pygments_lexer": "ipython3",
   "version": "3.10.9"
  }
 },
 "nbformat": 4,
 "nbformat_minor": 4
}
